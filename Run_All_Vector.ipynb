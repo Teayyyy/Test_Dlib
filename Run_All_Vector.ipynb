{
 "cells": [
  {
   "cell_type": "markdown",
   "source": [
    "# 计算所有超过两张脸以上的每个人的平均的向量的的矩"
   ],
   "metadata": {
    "collapsed": false
   }
  },
  {
   "cell_type": "code",
   "execution_count": 1,
   "outputs": [],
   "source": [
    "import cv2\n",
    "import numpy as np\n",
    "import matplotlib.pyplot as plt\n",
    "import dlib\n",
    "import os\n",
    "\n",
    "import pandas as pd"
   ],
   "metadata": {
    "collapsed": false,
    "ExecuteTime": {
     "end_time": "2023-05-22T18:20:21.157495Z",
     "start_time": "2023-05-22T18:20:20.700334Z"
    }
   }
  },
  {
   "cell_type": "code",
   "execution_count": 2,
   "outputs": [],
   "source": [
    "facerec_model = \"/Users/outianyi/Computer_Vision/dlib_face_recognition_resnet_model_v1.dat\"\n",
    "face_recognizer = dlib.face_recognition_model_v1(facerec_model)\n",
    "model = '/Users/outianyi/Computer_Vision/shape_predictor_68_face_landmarks.dat'\n",
    "predictor = dlib.shape_predictor(model)"
   ],
   "metadata": {
    "collapsed": false,
    "ExecuteTime": {
     "end_time": "2023-05-22T18:20:21.599961Z",
     "start_time": "2023-05-22T18:20:21.599100Z"
    }
   }
  },
  {
   "cell_type": "code",
   "execution_count": 3,
   "outputs": [
    {
     "data": {
      "text/plain": "1680"
     },
     "execution_count": 3,
     "metadata": {},
     "output_type": "execute_result"
    }
   ],
   "source": [
    "# 所有超过两个以上图片的文件路径保存下来\n",
    "def get_face_path(face_path):\n",
    "    face_path_ovr2_list = []\n",
    "    for dirpath, dirnames, filenames in os.walk(face_path):\n",
    "        if len(filenames) >=2:\n",
    "            face_path_ovr2_list.append(dirpath)\n",
    "    return face_path_ovr2_list\n",
    "face_path = '/Users/outianyi/Computer_Vision/lfw-deepfunneled'  # 这是所有人脸的名称\n",
    "ovr_2faces_paths = get_face_path(face_path)\n",
    "len(ovr_2faces_paths)"
   ],
   "metadata": {
    "collapsed": false,
    "ExecuteTime": {
     "end_time": "2023-05-22T18:22:39.097342Z",
     "start_time": "2023-05-22T18:22:38.719710Z"
    }
   }
  },
  {
   "cell_type": "code",
   "execution_count": 6,
   "outputs": [],
   "source": [
    "import pandas as pd\n",
    "# 保存中间结果\n",
    "def save_temp_paths(ovr_2faces):\n",
    "    df = pd.DataFrame(ovr_2faces)\n",
    "    df.to_excel(\"Ovr_2faces_path.xlsx\")\n",
    "    return df\n",
    "\n",
    "# df = save_temp_paths(ovr_2faces_paths)"
   ],
   "metadata": {
    "collapsed": false,
    "ExecuteTime": {
     "end_time": "2023-05-22T18:25:09.900027Z",
     "start_time": "2023-05-22T18:25:09.750285Z"
    }
   }
  },
  {
   "cell_type": "code",
   "execution_count": 25,
   "outputs": [
    {
     "data": {
      "text/plain": "   Unnamed: 0                                                  0\n0           0  /Users/outianyi/Computer_Vision/lfw-deepfunnel...\n1           1  /Users/outianyi/Computer_Vision/lfw-deepfunnel...\n2           2  /Users/outianyi/Computer_Vision/lfw-deepfunnel...\n3           3  /Users/outianyi/Computer_Vision/lfw-deepfunnel...\n4           4  /Users/outianyi/Computer_Vision/lfw-deepfunnel...",
      "text/html": "<div>\n<style scoped>\n    .dataframe tbody tr th:only-of-type {\n        vertical-align: middle;\n    }\n\n    .dataframe tbody tr th {\n        vertical-align: top;\n    }\n\n    .dataframe thead th {\n        text-align: right;\n    }\n</style>\n<table border=\"1\" class=\"dataframe\">\n  <thead>\n    <tr style=\"text-align: right;\">\n      <th></th>\n      <th>Unnamed: 0</th>\n      <th>0</th>\n    </tr>\n  </thead>\n  <tbody>\n    <tr>\n      <th>0</th>\n      <td>0</td>\n      <td>/Users/outianyi/Computer_Vision/lfw-deepfunnel...</td>\n    </tr>\n    <tr>\n      <th>1</th>\n      <td>1</td>\n      <td>/Users/outianyi/Computer_Vision/lfw-deepfunnel...</td>\n    </tr>\n    <tr>\n      <th>2</th>\n      <td>2</td>\n      <td>/Users/outianyi/Computer_Vision/lfw-deepfunnel...</td>\n    </tr>\n    <tr>\n      <th>3</th>\n      <td>3</td>\n      <td>/Users/outianyi/Computer_Vision/lfw-deepfunnel...</td>\n    </tr>\n    <tr>\n      <th>4</th>\n      <td>4</td>\n      <td>/Users/outianyi/Computer_Vision/lfw-deepfunnel...</td>\n    </tr>\n  </tbody>\n</table>\n</div>"
     },
     "execution_count": 25,
     "metadata": {},
     "output_type": "execute_result"
    }
   ],
   "source": [
    "# 到这里就直接从 excel 中读取了，减少计算量\n",
    "ovr_2faces_list = pd.read_excel('Ovr_2faces_path.xlsx')\n",
    "ovr_2faces_list.head(5)"
   ],
   "metadata": {
    "collapsed": false,
    "ExecuteTime": {
     "end_time": "2023-05-22T18:32:00.252745Z",
     "start_time": "2023-05-22T18:32:00.198832Z"
    }
   }
  },
  {
   "cell_type": "code",
   "execution_count": 26,
   "outputs": [
    {
     "data": {
      "text/plain": "      index                                               path\n0         0  /Users/outianyi/Computer_Vision/lfw-deepfunnel...\n1         1  /Users/outianyi/Computer_Vision/lfw-deepfunnel...\n2         2  /Users/outianyi/Computer_Vision/lfw-deepfunnel...\n3         3  /Users/outianyi/Computer_Vision/lfw-deepfunnel...\n4         4  /Users/outianyi/Computer_Vision/lfw-deepfunnel...\n...     ...                                                ...\n1675   1675  /Users/outianyi/Computer_Vision/lfw-deepfunnel...\n1676   1676  /Users/outianyi/Computer_Vision/lfw-deepfunnel...\n1677   1677  /Users/outianyi/Computer_Vision/lfw-deepfunnel...\n1678   1678  /Users/outianyi/Computer_Vision/lfw-deepfunnel...\n1679   1679  /Users/outianyi/Computer_Vision/lfw-deepfunnel...\n\n[1680 rows x 2 columns]",
      "text/html": "<div>\n<style scoped>\n    .dataframe tbody tr th:only-of-type {\n        vertical-align: middle;\n    }\n\n    .dataframe tbody tr th {\n        vertical-align: top;\n    }\n\n    .dataframe thead th {\n        text-align: right;\n    }\n</style>\n<table border=\"1\" class=\"dataframe\">\n  <thead>\n    <tr style=\"text-align: right;\">\n      <th></th>\n      <th>index</th>\n      <th>path</th>\n    </tr>\n  </thead>\n  <tbody>\n    <tr>\n      <th>0</th>\n      <td>0</td>\n      <td>/Users/outianyi/Computer_Vision/lfw-deepfunnel...</td>\n    </tr>\n    <tr>\n      <th>1</th>\n      <td>1</td>\n      <td>/Users/outianyi/Computer_Vision/lfw-deepfunnel...</td>\n    </tr>\n    <tr>\n      <th>2</th>\n      <td>2</td>\n      <td>/Users/outianyi/Computer_Vision/lfw-deepfunnel...</td>\n    </tr>\n    <tr>\n      <th>3</th>\n      <td>3</td>\n      <td>/Users/outianyi/Computer_Vision/lfw-deepfunnel...</td>\n    </tr>\n    <tr>\n      <th>4</th>\n      <td>4</td>\n      <td>/Users/outianyi/Computer_Vision/lfw-deepfunnel...</td>\n    </tr>\n    <tr>\n      <th>...</th>\n      <td>...</td>\n      <td>...</td>\n    </tr>\n    <tr>\n      <th>1675</th>\n      <td>1675</td>\n      <td>/Users/outianyi/Computer_Vision/lfw-deepfunnel...</td>\n    </tr>\n    <tr>\n      <th>1676</th>\n      <td>1676</td>\n      <td>/Users/outianyi/Computer_Vision/lfw-deepfunnel...</td>\n    </tr>\n    <tr>\n      <th>1677</th>\n      <td>1677</td>\n      <td>/Users/outianyi/Computer_Vision/lfw-deepfunnel...</td>\n    </tr>\n    <tr>\n      <th>1678</th>\n      <td>1678</td>\n      <td>/Users/outianyi/Computer_Vision/lfw-deepfunnel...</td>\n    </tr>\n    <tr>\n      <th>1679</th>\n      <td>1679</td>\n      <td>/Users/outianyi/Computer_Vision/lfw-deepfunnel...</td>\n    </tr>\n  </tbody>\n</table>\n<p>1680 rows × 2 columns</p>\n</div>"
     },
     "execution_count": 26,
     "metadata": {},
     "output_type": "execute_result"
    }
   ],
   "source": [
    "ovr_2faces_list.rename(columns={'Unnamed: 0': 'index', 0: 'path'}, inplace=True)\n",
    "ovr_2faces_list\n",
    "# 保存名称\n",
    "# ovr_2faces_list['name'] ="
   ],
   "metadata": {
    "collapsed": false,
    "ExecuteTime": {
     "end_time": "2023-05-22T18:32:00.865689Z",
     "start_time": "2023-05-22T18:32:00.861449Z"
    }
   }
  },
  {
   "cell_type": "markdown",
   "source": [
    "## 计算人脸向量"
   ],
   "metadata": {
    "collapsed": false
   }
  },
  {
   "cell_type": "code",
   "execution_count": 53,
   "outputs": [],
   "source": [
    "test_faces = ovr_2faces_list[: 10]"
   ],
   "metadata": {
    "collapsed": false,
    "ExecuteTime": {
     "end_time": "2023-05-22T18:40:39.300365Z",
     "start_time": "2023-05-22T18:40:39.290942Z"
    }
   }
  },
  {
   "cell_type": "code",
   "execution_count": 64,
   "outputs": [
    {
     "name": "stdout",
     "output_type": "stream",
     "text": [
      "Paul_McNulty\n",
      "Claudia_Pechstein\n",
      "Ranil_Wickremasinghe\n",
      "Mary-Kate_Olsen\n",
      "Phil_Mickelson\n",
      "Salma_Hayek\n",
      "Jim_Edmonds\n",
      "Martina_McBride\n",
      "Jose_Theodore\n",
      "Heidi_Fleiss\n"
     ]
    }
   ],
   "source": [
    "# 找到最后一个 / 后的名称\n",
    "# face = test_faces.iloc[9]\n",
    "# face\n",
    "paths = test_faces['path']\n",
    "path_list = paths.to_list()\n",
    "for path in path_list:\n",
    "    name = path.split('/')[-1]\n"
   ],
   "metadata": {
    "collapsed": false,
    "ExecuteTime": {
     "end_time": "2023-05-22T18:44:44.899836Z",
     "start_time": "2023-05-22T18:44:44.891972Z"
    }
   }
  },
  {
   "cell_type": "code",
   "execution_count": 66,
   "outputs": [
    {
     "data": {
      "text/plain": "      index                                               path   \n0         0  /Users/outianyi/Computer_Vision/lfw-deepfunnel...  \\\n1         1  /Users/outianyi/Computer_Vision/lfw-deepfunnel...   \n2         2  /Users/outianyi/Computer_Vision/lfw-deepfunnel...   \n3         3  /Users/outianyi/Computer_Vision/lfw-deepfunnel...   \n4         4  /Users/outianyi/Computer_Vision/lfw-deepfunnel...   \n...     ...                                                ...   \n1675   1675  /Users/outianyi/Computer_Vision/lfw-deepfunnel...   \n1676   1676  /Users/outianyi/Computer_Vision/lfw-deepfunnel...   \n1677   1677  /Users/outianyi/Computer_Vision/lfw-deepfunnel...   \n1678   1678  /Users/outianyi/Computer_Vision/lfw-deepfunnel...   \n1679   1679  /Users/outianyi/Computer_Vision/lfw-deepfunnel...   \n\n                      name  \n0             Paul_McNulty  \n1        Claudia_Pechstein  \n2     Ranil_Wickremasinghe  \n3          Mary-Kate_Olsen  \n4           Phil_Mickelson  \n...                    ...  \n1675            Tim_Duncan  \n1676       Enrique_Bolanos  \n1677      Gregory_Geoffroy  \n1678           Li_Zhaoxing  \n1679        John_Garamendi  \n\n[1680 rows x 3 columns]",
      "text/html": "<div>\n<style scoped>\n    .dataframe tbody tr th:only-of-type {\n        vertical-align: middle;\n    }\n\n    .dataframe tbody tr th {\n        vertical-align: top;\n    }\n\n    .dataframe thead th {\n        text-align: right;\n    }\n</style>\n<table border=\"1\" class=\"dataframe\">\n  <thead>\n    <tr style=\"text-align: right;\">\n      <th></th>\n      <th>index</th>\n      <th>path</th>\n      <th>name</th>\n    </tr>\n  </thead>\n  <tbody>\n    <tr>\n      <th>0</th>\n      <td>0</td>\n      <td>/Users/outianyi/Computer_Vision/lfw-deepfunnel...</td>\n      <td>Paul_McNulty</td>\n    </tr>\n    <tr>\n      <th>1</th>\n      <td>1</td>\n      <td>/Users/outianyi/Computer_Vision/lfw-deepfunnel...</td>\n      <td>Claudia_Pechstein</td>\n    </tr>\n    <tr>\n      <th>2</th>\n      <td>2</td>\n      <td>/Users/outianyi/Computer_Vision/lfw-deepfunnel...</td>\n      <td>Ranil_Wickremasinghe</td>\n    </tr>\n    <tr>\n      <th>3</th>\n      <td>3</td>\n      <td>/Users/outianyi/Computer_Vision/lfw-deepfunnel...</td>\n      <td>Mary-Kate_Olsen</td>\n    </tr>\n    <tr>\n      <th>4</th>\n      <td>4</td>\n      <td>/Users/outianyi/Computer_Vision/lfw-deepfunnel...</td>\n      <td>Phil_Mickelson</td>\n    </tr>\n    <tr>\n      <th>...</th>\n      <td>...</td>\n      <td>...</td>\n      <td>...</td>\n    </tr>\n    <tr>\n      <th>1675</th>\n      <td>1675</td>\n      <td>/Users/outianyi/Computer_Vision/lfw-deepfunnel...</td>\n      <td>Tim_Duncan</td>\n    </tr>\n    <tr>\n      <th>1676</th>\n      <td>1676</td>\n      <td>/Users/outianyi/Computer_Vision/lfw-deepfunnel...</td>\n      <td>Enrique_Bolanos</td>\n    </tr>\n    <tr>\n      <th>1677</th>\n      <td>1677</td>\n      <td>/Users/outianyi/Computer_Vision/lfw-deepfunnel...</td>\n      <td>Gregory_Geoffroy</td>\n    </tr>\n    <tr>\n      <th>1678</th>\n      <td>1678</td>\n      <td>/Users/outianyi/Computer_Vision/lfw-deepfunnel...</td>\n      <td>Li_Zhaoxing</td>\n    </tr>\n    <tr>\n      <th>1679</th>\n      <td>1679</td>\n      <td>/Users/outianyi/Computer_Vision/lfw-deepfunnel...</td>\n      <td>John_Garamendi</td>\n    </tr>\n  </tbody>\n</table>\n<p>1680 rows × 3 columns</p>\n</div>"
     },
     "execution_count": 66,
     "metadata": {},
     "output_type": "execute_result"
    }
   ],
   "source": [
    "# 获取人名\n",
    "get_name = lambda x: x.split('/')[-1]\n",
    "ovr_2faces_list['name'] = ovr_2faces_list['path'].apply(get_name)\n",
    "ovr_2faces_list"
   ],
   "metadata": {
    "collapsed": false,
    "ExecuteTime": {
     "end_time": "2023-05-22T18:48:45.516593Z",
     "start_time": "2023-05-22T18:48:45.515205Z"
    }
   }
  },
  {
   "cell_type": "code",
   "execution_count": 68,
   "outputs": [
    {
     "data": {
      "text/plain": "   index                                               path   \n0      0  /Users/outianyi/Computer_Vision/lfw-deepfunnel...  \\\n1      1  /Users/outianyi/Computer_Vision/lfw-deepfunnel...   \n2      2  /Users/outianyi/Computer_Vision/lfw-deepfunnel...   \n3      3  /Users/outianyi/Computer_Vision/lfw-deepfunnel...   \n4      4  /Users/outianyi/Computer_Vision/lfw-deepfunnel...   \n5      5  /Users/outianyi/Computer_Vision/lfw-deepfunnel...   \n6      6  /Users/outianyi/Computer_Vision/lfw-deepfunnel...   \n7      7  /Users/outianyi/Computer_Vision/lfw-deepfunnel...   \n8      8  /Users/outianyi/Computer_Vision/lfw-deepfunnel...   \n9      9  /Users/outianyi/Computer_Vision/lfw-deepfunnel...   \n\n                   name  \n0          Paul_McNulty  \n1     Claudia_Pechstein  \n2  Ranil_Wickremasinghe  \n3       Mary-Kate_Olsen  \n4        Phil_Mickelson  \n5           Salma_Hayek  \n6           Jim_Edmonds  \n7       Martina_McBride  \n8         Jose_Theodore  \n9          Heidi_Fleiss  ",
      "text/html": "<div>\n<style scoped>\n    .dataframe tbody tr th:only-of-type {\n        vertical-align: middle;\n    }\n\n    .dataframe tbody tr th {\n        vertical-align: top;\n    }\n\n    .dataframe thead th {\n        text-align: right;\n    }\n</style>\n<table border=\"1\" class=\"dataframe\">\n  <thead>\n    <tr style=\"text-align: right;\">\n      <th></th>\n      <th>index</th>\n      <th>path</th>\n      <th>name</th>\n    </tr>\n  </thead>\n  <tbody>\n    <tr>\n      <th>0</th>\n      <td>0</td>\n      <td>/Users/outianyi/Computer_Vision/lfw-deepfunnel...</td>\n      <td>Paul_McNulty</td>\n    </tr>\n    <tr>\n      <th>1</th>\n      <td>1</td>\n      <td>/Users/outianyi/Computer_Vision/lfw-deepfunnel...</td>\n      <td>Claudia_Pechstein</td>\n    </tr>\n    <tr>\n      <th>2</th>\n      <td>2</td>\n      <td>/Users/outianyi/Computer_Vision/lfw-deepfunnel...</td>\n      <td>Ranil_Wickremasinghe</td>\n    </tr>\n    <tr>\n      <th>3</th>\n      <td>3</td>\n      <td>/Users/outianyi/Computer_Vision/lfw-deepfunnel...</td>\n      <td>Mary-Kate_Olsen</td>\n    </tr>\n    <tr>\n      <th>4</th>\n      <td>4</td>\n      <td>/Users/outianyi/Computer_Vision/lfw-deepfunnel...</td>\n      <td>Phil_Mickelson</td>\n    </tr>\n    <tr>\n      <th>5</th>\n      <td>5</td>\n      <td>/Users/outianyi/Computer_Vision/lfw-deepfunnel...</td>\n      <td>Salma_Hayek</td>\n    </tr>\n    <tr>\n      <th>6</th>\n      <td>6</td>\n      <td>/Users/outianyi/Computer_Vision/lfw-deepfunnel...</td>\n      <td>Jim_Edmonds</td>\n    </tr>\n    <tr>\n      <th>7</th>\n      <td>7</td>\n      <td>/Users/outianyi/Computer_Vision/lfw-deepfunnel...</td>\n      <td>Martina_McBride</td>\n    </tr>\n    <tr>\n      <th>8</th>\n      <td>8</td>\n      <td>/Users/outianyi/Computer_Vision/lfw-deepfunnel...</td>\n      <td>Jose_Theodore</td>\n    </tr>\n    <tr>\n      <th>9</th>\n      <td>9</td>\n      <td>/Users/outianyi/Computer_Vision/lfw-deepfunnel...</td>\n      <td>Heidi_Fleiss</td>\n    </tr>\n  </tbody>\n</table>\n</div>"
     },
     "execution_count": 68,
     "metadata": {},
     "output_type": "execute_result"
    }
   ],
   "source": [
    "# 测试计算 人脸向量\n",
    "test_list = ovr_2faces_list[: 10]\n"
   ],
   "metadata": {
    "collapsed": false,
    "ExecuteTime": {
     "end_time": "2023-05-22T18:50:52.287789Z",
     "start_time": "2023-05-22T18:50:52.282569Z"
    }
   }
  },
  {
   "cell_type": "code",
   "execution_count": 90,
   "outputs": [],
   "source": [
    "def distance(a, b):\n",
    "    # 计算两个 face 向量之间的欧式距离\n",
    "    return np.sqrt(np.sum(np.square(np.array(a) - np.array(b))))\n",
    "# 计算每个人脸的平均矩值\n",
    "detector = dlib.get_frontal_face_detector()\n",
    "def calc_average_moment(face_path):\n",
    "    # 获取每张脸的文件路径，并获取脸部向量\n",
    "    face_vectors = []\n",
    "    for dirpath, dirnames, filenames in os.walk(face_path):\n",
    "        for filename in filenames:\n",
    "            # print(dirpath)\n",
    "            # print(filename)\n",
    "            t_path = os.path.join(dirpath, filename)\n",
    "            # print(t_path)\n",
    "            temp_img = cv2.imread(t_path)\n",
    "            detec_face = detector(temp_img, 1)\n",
    "            detec_face = detec_face[0]\n",
    "            shape = predictor(temp_img, detec_face)\n",
    "            descriptor = face_recognizer.compute_face_descriptor(temp_img, shape)\n",
    "            # print(1)\n",
    "            face_vectors.append(descriptor)\n",
    "    # 计算各个向量之间的平均值\n",
    "    face_distances = []\n",
    "    for i in range(len(face_vectors)):\n",
    "        for j in range(i, len(face_vectors)):\n",
    "            face_distances.append(distance(face_vectors[i], face_vectors[j]))\n",
    "    return np.average(face_distances)"
   ],
   "metadata": {
    "collapsed": false,
    "ExecuteTime": {
     "end_time": "2023-05-22T19:07:40.768605Z",
     "start_time": "2023-05-22T19:07:40.767186Z"
    }
   }
  },
  {
   "cell_type": "code",
   "execution_count": 91,
   "outputs": [
    {
     "name": "stderr",
     "output_type": "stream",
     "text": [
      "/var/folders/r2/bv03lgdn7y58thlc1ntrzgvc0000gn/T/ipykernel_37343/1279102817.py:1: SettingWithCopyWarning: \n",
      "A value is trying to be set on a copy of a slice from a DataFrame.\n",
      "Try using .loc[row_indexer,col_indexer] = value instead\n",
      "\n",
      "See the caveats in the documentation: https://pandas.pydata.org/pandas-docs/stable/user_guide/indexing.html#returning-a-view-versus-a-copy\n",
      "  test_list['average_moments'] = test_list['path'].apply(calc_average_moment)\n"
     ]
    }
   ],
   "source": [
    "test_list['average_moments'] = test_list['path'].apply(calc_average_moment)"
   ],
   "metadata": {
    "collapsed": false,
    "ExecuteTime": {
     "end_time": "2023-05-22T19:07:42.119990Z",
     "start_time": "2023-05-22T19:07:40.856238Z"
    }
   }
  },
  {
   "cell_type": "code",
   "execution_count": 92,
   "outputs": [
    {
     "data": {
      "text/plain": "   index                                               path   \n0      0  /Users/outianyi/Computer_Vision/lfw-deepfunnel...  \\\n1      1  /Users/outianyi/Computer_Vision/lfw-deepfunnel...   \n2      2  /Users/outianyi/Computer_Vision/lfw-deepfunnel...   \n3      3  /Users/outianyi/Computer_Vision/lfw-deepfunnel...   \n4      4  /Users/outianyi/Computer_Vision/lfw-deepfunnel...   \n5      5  /Users/outianyi/Computer_Vision/lfw-deepfunnel...   \n6      6  /Users/outianyi/Computer_Vision/lfw-deepfunnel...   \n7      7  /Users/outianyi/Computer_Vision/lfw-deepfunnel...   \n8      8  /Users/outianyi/Computer_Vision/lfw-deepfunnel...   \n9      9  /Users/outianyi/Computer_Vision/lfw-deepfunnel...   \n\n                   name  average_moments  \n0          Paul_McNulty         0.111720  \n1     Claudia_Pechstein         0.417827  \n2  Ranil_Wickremasinghe         0.278288  \n3       Mary-Kate_Olsen         0.239453  \n4        Phil_Mickelson         0.168326  \n5           Salma_Hayek         0.418729  \n6           Jim_Edmonds         0.173583  \n7       Martina_McBride         0.347663  \n8         Jose_Theodore         0.141682  \n9          Heidi_Fleiss         0.324884  ",
      "text/html": "<div>\n<style scoped>\n    .dataframe tbody tr th:only-of-type {\n        vertical-align: middle;\n    }\n\n    .dataframe tbody tr th {\n        vertical-align: top;\n    }\n\n    .dataframe thead th {\n        text-align: right;\n    }\n</style>\n<table border=\"1\" class=\"dataframe\">\n  <thead>\n    <tr style=\"text-align: right;\">\n      <th></th>\n      <th>index</th>\n      <th>path</th>\n      <th>name</th>\n      <th>average_moments</th>\n    </tr>\n  </thead>\n  <tbody>\n    <tr>\n      <th>0</th>\n      <td>0</td>\n      <td>/Users/outianyi/Computer_Vision/lfw-deepfunnel...</td>\n      <td>Paul_McNulty</td>\n      <td>0.111720</td>\n    </tr>\n    <tr>\n      <th>1</th>\n      <td>1</td>\n      <td>/Users/outianyi/Computer_Vision/lfw-deepfunnel...</td>\n      <td>Claudia_Pechstein</td>\n      <td>0.417827</td>\n    </tr>\n    <tr>\n      <th>2</th>\n      <td>2</td>\n      <td>/Users/outianyi/Computer_Vision/lfw-deepfunnel...</td>\n      <td>Ranil_Wickremasinghe</td>\n      <td>0.278288</td>\n    </tr>\n    <tr>\n      <th>3</th>\n      <td>3</td>\n      <td>/Users/outianyi/Computer_Vision/lfw-deepfunnel...</td>\n      <td>Mary-Kate_Olsen</td>\n      <td>0.239453</td>\n    </tr>\n    <tr>\n      <th>4</th>\n      <td>4</td>\n      <td>/Users/outianyi/Computer_Vision/lfw-deepfunnel...</td>\n      <td>Phil_Mickelson</td>\n      <td>0.168326</td>\n    </tr>\n    <tr>\n      <th>5</th>\n      <td>5</td>\n      <td>/Users/outianyi/Computer_Vision/lfw-deepfunnel...</td>\n      <td>Salma_Hayek</td>\n      <td>0.418729</td>\n    </tr>\n    <tr>\n      <th>6</th>\n      <td>6</td>\n      <td>/Users/outianyi/Computer_Vision/lfw-deepfunnel...</td>\n      <td>Jim_Edmonds</td>\n      <td>0.173583</td>\n    </tr>\n    <tr>\n      <th>7</th>\n      <td>7</td>\n      <td>/Users/outianyi/Computer_Vision/lfw-deepfunnel...</td>\n      <td>Martina_McBride</td>\n      <td>0.347663</td>\n    </tr>\n    <tr>\n      <th>8</th>\n      <td>8</td>\n      <td>/Users/outianyi/Computer_Vision/lfw-deepfunnel...</td>\n      <td>Jose_Theodore</td>\n      <td>0.141682</td>\n    </tr>\n    <tr>\n      <th>9</th>\n      <td>9</td>\n      <td>/Users/outianyi/Computer_Vision/lfw-deepfunnel...</td>\n      <td>Heidi_Fleiss</td>\n      <td>0.324884</td>\n    </tr>\n  </tbody>\n</table>\n</div>"
     },
     "execution_count": 92,
     "metadata": {},
     "output_type": "execute_result"
    }
   ],
   "source": [
    "test_list"
   ],
   "metadata": {
    "collapsed": false,
    "ExecuteTime": {
     "end_time": "2023-05-22T19:07:45.803Z",
     "start_time": "2023-05-22T19:07:45.785145Z"
    }
   }
  },
  {
   "cell_type": "markdown",
   "source": [
    "# 测试人脸的聚类"
   ],
   "metadata": {
    "collapsed": false
   }
  },
  {
   "cell_type": "code",
   "execution_count": 103,
   "outputs": [
    {
     "data": {
      "text/plain": "41"
     },
     "execution_count": 103,
     "metadata": {},
     "output_type": "execute_result"
    }
   ],
   "source": [
    "face_des = []\n",
    "for path in test_list['path']:\n",
    "    for faces_path in os.listdir(path):\n",
    "        # print(os.path.join(path, faces_path))\n",
    "        t_p = os.path.join(path, faces_path)\n",
    "        img = cv2.imread(t_p)\n",
    "        dt_face = detector(img, 1)\n",
    "        dt_face = dt_face[0]\n",
    "        shape = predictor(img, dt_face)\n",
    "        descriptor = face_recognizer.compute_face_descriptor(img, shape)\n",
    "        face_des.append(descriptor)\n",
    "len(face_des)"
   ],
   "metadata": {
    "collapsed": false,
    "ExecuteTime": {
     "end_time": "2023-05-23T03:54:03.268792Z",
     "start_time": "2023-05-23T03:54:01.971691Z"
    }
   }
  },
  {
   "cell_type": "code",
   "execution_count": 112,
   "outputs": [
    {
     "name": "stdout",
     "output_type": "stream",
     "text": [
      "labels: [0, 0, 1, 2, 3, 2, 3, 4, 4, 4, 5, 5, 5, 2, 2, 1, 1, 1, 1, 1, 1, 1, 1, 1, 1, 1, 1, 1, 6, 6, 1, 1, 1, 1, 1, 6, 6, 1, 1, 1, 1]\n",
      "number of classes: 7\n"
     ]
    }
   ],
   "source": [
    "# 测试聚类\n",
    "labels = dlib.chinese_whispers_clustering(face_des, 0.70)\n",
    "print('labels: {}'.format(labels))\n",
    "num_classes = len(set(labels))\n",
    "print('number of classes: {}'.format(num_classes))"
   ],
   "metadata": {
    "collapsed": false,
    "ExecuteTime": {
     "end_time": "2023-05-23T03:56:19.307565Z",
     "start_time": "2023-05-23T03:56:19.300089Z"
    }
   }
  },
  {
   "cell_type": "code",
   "execution_count": 113,
   "outputs": [
    {
     "name": "stderr",
     "output_type": "stream",
     "text": [
      "/var/folders/r2/bv03lgdn7y58thlc1ntrzgvc0000gn/T/ipykernel_37343/4003547859.py:3: SettingWithCopyWarning: \n",
      "A value is trying to be set on a copy of a slice from a DataFrame.\n",
      "Try using .loc[row_indexer,col_indexer] = value instead\n",
      "\n",
      "See the caveats in the documentation: https://pandas.pydata.org/pandas-docs/stable/user_guide/indexing.html#returning-a-view-versus-a-copy\n",
      "  test_list['num_faces'] = test_list['path'].apply(calc_path_under_faces)\n"
     ]
    },
    {
     "data": {
      "text/plain": "   index                                               path   \n0      0  /Users/outianyi/Computer_Vision/lfw-deepfunnel...  \\\n1      1  /Users/outianyi/Computer_Vision/lfw-deepfunnel...   \n2      2  /Users/outianyi/Computer_Vision/lfw-deepfunnel...   \n3      3  /Users/outianyi/Computer_Vision/lfw-deepfunnel...   \n4      4  /Users/outianyi/Computer_Vision/lfw-deepfunnel...   \n5      5  /Users/outianyi/Computer_Vision/lfw-deepfunnel...   \n6      6  /Users/outianyi/Computer_Vision/lfw-deepfunnel...   \n7      7  /Users/outianyi/Computer_Vision/lfw-deepfunnel...   \n8      8  /Users/outianyi/Computer_Vision/lfw-deepfunnel...   \n9      9  /Users/outianyi/Computer_Vision/lfw-deepfunnel...   \n\n                   name  average_moments  num_faces  \n0          Paul_McNulty         0.111720          2  \n1     Claudia_Pechstein         0.417827          5  \n2  Ranil_Wickremasinghe         0.278288          3  \n3       Mary-Kate_Olsen         0.239453          3  \n4        Phil_Mickelson         0.168326          2  \n5           Salma_Hayek         0.418729         13  \n6           Jim_Edmonds         0.173583          2  \n7       Martina_McBride         0.347663          5  \n8         Jose_Theodore         0.141682          2  \n9          Heidi_Fleiss         0.324884          4  ",
      "text/html": "<div>\n<style scoped>\n    .dataframe tbody tr th:only-of-type {\n        vertical-align: middle;\n    }\n\n    .dataframe tbody tr th {\n        vertical-align: top;\n    }\n\n    .dataframe thead th {\n        text-align: right;\n    }\n</style>\n<table border=\"1\" class=\"dataframe\">\n  <thead>\n    <tr style=\"text-align: right;\">\n      <th></th>\n      <th>index</th>\n      <th>path</th>\n      <th>name</th>\n      <th>average_moments</th>\n      <th>num_faces</th>\n    </tr>\n  </thead>\n  <tbody>\n    <tr>\n      <th>0</th>\n      <td>0</td>\n      <td>/Users/outianyi/Computer_Vision/lfw-deepfunnel...</td>\n      <td>Paul_McNulty</td>\n      <td>0.111720</td>\n      <td>2</td>\n    </tr>\n    <tr>\n      <th>1</th>\n      <td>1</td>\n      <td>/Users/outianyi/Computer_Vision/lfw-deepfunnel...</td>\n      <td>Claudia_Pechstein</td>\n      <td>0.417827</td>\n      <td>5</td>\n    </tr>\n    <tr>\n      <th>2</th>\n      <td>2</td>\n      <td>/Users/outianyi/Computer_Vision/lfw-deepfunnel...</td>\n      <td>Ranil_Wickremasinghe</td>\n      <td>0.278288</td>\n      <td>3</td>\n    </tr>\n    <tr>\n      <th>3</th>\n      <td>3</td>\n      <td>/Users/outianyi/Computer_Vision/lfw-deepfunnel...</td>\n      <td>Mary-Kate_Olsen</td>\n      <td>0.239453</td>\n      <td>3</td>\n    </tr>\n    <tr>\n      <th>4</th>\n      <td>4</td>\n      <td>/Users/outianyi/Computer_Vision/lfw-deepfunnel...</td>\n      <td>Phil_Mickelson</td>\n      <td>0.168326</td>\n      <td>2</td>\n    </tr>\n    <tr>\n      <th>5</th>\n      <td>5</td>\n      <td>/Users/outianyi/Computer_Vision/lfw-deepfunnel...</td>\n      <td>Salma_Hayek</td>\n      <td>0.418729</td>\n      <td>13</td>\n    </tr>\n    <tr>\n      <th>6</th>\n      <td>6</td>\n      <td>/Users/outianyi/Computer_Vision/lfw-deepfunnel...</td>\n      <td>Jim_Edmonds</td>\n      <td>0.173583</td>\n      <td>2</td>\n    </tr>\n    <tr>\n      <th>7</th>\n      <td>7</td>\n      <td>/Users/outianyi/Computer_Vision/lfw-deepfunnel...</td>\n      <td>Martina_McBride</td>\n      <td>0.347663</td>\n      <td>5</td>\n    </tr>\n    <tr>\n      <th>8</th>\n      <td>8</td>\n      <td>/Users/outianyi/Computer_Vision/lfw-deepfunnel...</td>\n      <td>Jose_Theodore</td>\n      <td>0.141682</td>\n      <td>2</td>\n    </tr>\n    <tr>\n      <th>9</th>\n      <td>9</td>\n      <td>/Users/outianyi/Computer_Vision/lfw-deepfunnel...</td>\n      <td>Heidi_Fleiss</td>\n      <td>0.324884</td>\n      <td>4</td>\n    </tr>\n  </tbody>\n</table>\n</div>"
     },
     "execution_count": 113,
     "metadata": {},
     "output_type": "execute_result"
    }
   ],
   "source": [
    "def calc_path_under_faces(path):\n",
    "    return len(os.listdir(path))\n",
    "test_list['num_faces'] = test_list['path'].apply(calc_path_under_faces)\n",
    "test_list"
   ],
   "metadata": {
    "collapsed": false,
    "ExecuteTime": {
     "end_time": "2023-05-23T04:03:24.004352Z",
     "start_time": "2023-05-23T04:03:23.991922Z"
    }
   }
  },
  {
   "cell_type": "markdown",
   "source": [
    "# 将每个文件夹下每个人脸的特征向量都给保存了"
   ],
   "metadata": {
    "collapsed": false
   }
  },
  {
   "cell_type": "code",
   "execution_count": 114,
   "outputs": [
    {
     "name": "stderr",
     "output_type": "stream",
     "text": [
      "/var/folders/r2/bv03lgdn7y58thlc1ntrzgvc0000gn/T/ipykernel_37343/4226886098.py:12: SettingWithCopyWarning: \n",
      "A value is trying to be set on a copy of a slice from a DataFrame.\n",
      "Try using .loc[row_indexer,col_indexer] = value instead\n",
      "\n",
      "See the caveats in the documentation: https://pandas.pydata.org/pandas-docs/stable/user_guide/indexing.html#returning-a-view-versus-a-copy\n",
      "  test_list['descriptors'] = test_list['path'].apply(get_face_descriptors)\n"
     ]
    }
   ],
   "source": [
    "def get_face_descriptors(path):\n",
    "    descriptors = []\n",
    "    for face_path in os.listdir(path):\n",
    "        t_p = os.path.join(path, face_path)\n",
    "        img = cv2.imread(t_p, cv2.IMREAD_COLOR)\n",
    "        face_des = detector(img, 1)\n",
    "        face_des = face_des[0]\n",
    "        shape = predictor(img, dt_face)\n",
    "        descriptor = face_recognizer.compute_face_descriptor(img, shape)\n",
    "        descriptors.append(descriptor)\n",
    "    return descriptors\n",
    "test_list['descriptors'] = test_list['path'].apply(get_face_descriptors)"
   ],
   "metadata": {
    "collapsed": false,
    "ExecuteTime": {
     "end_time": "2023-05-23T04:17:44.445138Z",
     "start_time": "2023-05-23T04:17:43.190505Z"
    }
   }
  },
  {
   "cell_type": "code",
   "execution_count": 115,
   "outputs": [
    {
     "data": {
      "text/plain": "   index                                               path   \n0      0  /Users/outianyi/Computer_Vision/lfw-deepfunnel...  \\\n1      1  /Users/outianyi/Computer_Vision/lfw-deepfunnel...   \n2      2  /Users/outianyi/Computer_Vision/lfw-deepfunnel...   \n3      3  /Users/outianyi/Computer_Vision/lfw-deepfunnel...   \n4      4  /Users/outianyi/Computer_Vision/lfw-deepfunnel...   \n5      5  /Users/outianyi/Computer_Vision/lfw-deepfunnel...   \n6      6  /Users/outianyi/Computer_Vision/lfw-deepfunnel...   \n7      7  /Users/outianyi/Computer_Vision/lfw-deepfunnel...   \n8      8  /Users/outianyi/Computer_Vision/lfw-deepfunnel...   \n9      9  /Users/outianyi/Computer_Vision/lfw-deepfunnel...   \n\n                   name  average_moments  num_faces   \n0          Paul_McNulty         0.111720          2  \\\n1     Claudia_Pechstein         0.417827          5   \n2  Ranil_Wickremasinghe         0.278288          3   \n3       Mary-Kate_Olsen         0.239453          3   \n4        Phil_Mickelson         0.168326          2   \n5           Salma_Hayek         0.418729         13   \n6           Jim_Edmonds         0.173583          2   \n7       Martina_McBride         0.347663          5   \n8         Jose_Theodore         0.141682          2   \n9          Heidi_Fleiss         0.324884          4   \n\n                                         descriptors  \n0  [[-0.07060801982879639, 0.055325791239738464, ...  \n1  [[-0.12119658291339874, 0.05247082561254501, 0...  \n2  [[-0.13655447959899902, 0.08730633556842804, 0...  \n3  [[-0.09991657733917236, 0.10120007395744324, 0...  \n4  [[-0.1025066077709198, 0.05376621335744858, 0....  \n5  [[-0.15633054077625275, 0.09237279742956161, 0...  \n6  [[-0.08292166888713837, 0.07434344291687012, 0...  \n7  [[-0.14516302943229675, 0.03735875338315964, 0...  \n8  [[-0.11778141558170319, 0.1408040076494217, 0....  \n9  [[-0.05440336465835571, 0.11301366984844208, 0...  ",
      "text/html": "<div>\n<style scoped>\n    .dataframe tbody tr th:only-of-type {\n        vertical-align: middle;\n    }\n\n    .dataframe tbody tr th {\n        vertical-align: top;\n    }\n\n    .dataframe thead th {\n        text-align: right;\n    }\n</style>\n<table border=\"1\" class=\"dataframe\">\n  <thead>\n    <tr style=\"text-align: right;\">\n      <th></th>\n      <th>index</th>\n      <th>path</th>\n      <th>name</th>\n      <th>average_moments</th>\n      <th>num_faces</th>\n      <th>descriptors</th>\n    </tr>\n  </thead>\n  <tbody>\n    <tr>\n      <th>0</th>\n      <td>0</td>\n      <td>/Users/outianyi/Computer_Vision/lfw-deepfunnel...</td>\n      <td>Paul_McNulty</td>\n      <td>0.111720</td>\n      <td>2</td>\n      <td>[[-0.07060801982879639, 0.055325791239738464, ...</td>\n    </tr>\n    <tr>\n      <th>1</th>\n      <td>1</td>\n      <td>/Users/outianyi/Computer_Vision/lfw-deepfunnel...</td>\n      <td>Claudia_Pechstein</td>\n      <td>0.417827</td>\n      <td>5</td>\n      <td>[[-0.12119658291339874, 0.05247082561254501, 0...</td>\n    </tr>\n    <tr>\n      <th>2</th>\n      <td>2</td>\n      <td>/Users/outianyi/Computer_Vision/lfw-deepfunnel...</td>\n      <td>Ranil_Wickremasinghe</td>\n      <td>0.278288</td>\n      <td>3</td>\n      <td>[[-0.13655447959899902, 0.08730633556842804, 0...</td>\n    </tr>\n    <tr>\n      <th>3</th>\n      <td>3</td>\n      <td>/Users/outianyi/Computer_Vision/lfw-deepfunnel...</td>\n      <td>Mary-Kate_Olsen</td>\n      <td>0.239453</td>\n      <td>3</td>\n      <td>[[-0.09991657733917236, 0.10120007395744324, 0...</td>\n    </tr>\n    <tr>\n      <th>4</th>\n      <td>4</td>\n      <td>/Users/outianyi/Computer_Vision/lfw-deepfunnel...</td>\n      <td>Phil_Mickelson</td>\n      <td>0.168326</td>\n      <td>2</td>\n      <td>[[-0.1025066077709198, 0.05376621335744858, 0....</td>\n    </tr>\n    <tr>\n      <th>5</th>\n      <td>5</td>\n      <td>/Users/outianyi/Computer_Vision/lfw-deepfunnel...</td>\n      <td>Salma_Hayek</td>\n      <td>0.418729</td>\n      <td>13</td>\n      <td>[[-0.15633054077625275, 0.09237279742956161, 0...</td>\n    </tr>\n    <tr>\n      <th>6</th>\n      <td>6</td>\n      <td>/Users/outianyi/Computer_Vision/lfw-deepfunnel...</td>\n      <td>Jim_Edmonds</td>\n      <td>0.173583</td>\n      <td>2</td>\n      <td>[[-0.08292166888713837, 0.07434344291687012, 0...</td>\n    </tr>\n    <tr>\n      <th>7</th>\n      <td>7</td>\n      <td>/Users/outianyi/Computer_Vision/lfw-deepfunnel...</td>\n      <td>Martina_McBride</td>\n      <td>0.347663</td>\n      <td>5</td>\n      <td>[[-0.14516302943229675, 0.03735875338315964, 0...</td>\n    </tr>\n    <tr>\n      <th>8</th>\n      <td>8</td>\n      <td>/Users/outianyi/Computer_Vision/lfw-deepfunnel...</td>\n      <td>Jose_Theodore</td>\n      <td>0.141682</td>\n      <td>2</td>\n      <td>[[-0.11778141558170319, 0.1408040076494217, 0....</td>\n    </tr>\n    <tr>\n      <th>9</th>\n      <td>9</td>\n      <td>/Users/outianyi/Computer_Vision/lfw-deepfunnel...</td>\n      <td>Heidi_Fleiss</td>\n      <td>0.324884</td>\n      <td>4</td>\n      <td>[[-0.05440336465835571, 0.11301366984844208, 0...</td>\n    </tr>\n  </tbody>\n</table>\n</div>"
     },
     "execution_count": 115,
     "metadata": {},
     "output_type": "execute_result"
    }
   ],
   "source": [
    "test_list"
   ],
   "metadata": {
    "collapsed": false,
    "ExecuteTime": {
     "end_time": "2023-05-23T04:17:50.577221Z",
     "start_time": "2023-05-23T04:17:50.555489Z"
    }
   }
  },
  {
   "cell_type": "code",
   "execution_count": 116,
   "outputs": [
    {
     "data": {
      "text/plain": "2"
     },
     "execution_count": 116,
     "metadata": {},
     "output_type": "execute_result"
    }
   ],
   "source": [
    "len(test_list['descriptors'].iloc[0])"
   ],
   "metadata": {
    "collapsed": false,
    "ExecuteTime": {
     "end_time": "2023-05-23T04:19:25.024445Z",
     "start_time": "2023-05-23T04:19:25.000480Z"
    }
   }
  },
  {
   "cell_type": "code",
   "execution_count": 126,
   "outputs": [
    {
     "data": {
      "text/plain": "<Figure size 640x480 with 1 Axes>",
      "image/png": "[encoded data removed]"
     },
     "metadata": {},
     "output_type": "display_data"
    }
   ],
   "source": [
    "# 看一下这么多人脸的平均矩\n",
    "test_list['average_moments'].describe()\n",
    "plt.plot(test_list['average_moments'])\n",
    "plt.ylim(0, 1)\n",
    "plt.show()"
   ],
   "metadata": {
    "collapsed": false,
    "ExecuteTime": {
     "end_time": "2023-05-23T04:26:58.037880Z",
     "start_time": "2023-05-23T04:26:57.995305Z"
    }
   }
  },
  {
   "cell_type": "code",
   "execution_count": 127,
   "outputs": [
    {
     "data": {
      "text/plain": "1680"
     },
     "execution_count": 127,
     "metadata": {},
     "output_type": "execute_result"
    }
   ],
   "source": [
    "readed_csv = pd.read_csv('multi_threding_results.csv')\n",
    "len(readed_csv)"
   ],
   "metadata": {
    "collapsed": false,
    "ExecuteTime": {
     "end_time": "2023-05-23T06:28:15.021554Z",
     "start_time": "2023-05-23T06:28:14.917846Z"
    }
   }
  },
  {
   "cell_type": "code",
   "execution_count": 128,
   "outputs": [
    {
     "data": {
      "text/plain": "    Unnamed: 0  index                                               path   \n0            0      0  /Users/outianyi/Computer_Vision/lfw-deepfunnel...  \\\n1            1      1  /Users/outianyi/Computer_Vision/lfw-deepfunnel...   \n2            2      2  /Users/outianyi/Computer_Vision/lfw-deepfunnel...   \n3            3      3  /Users/outianyi/Computer_Vision/lfw-deepfunnel...   \n4            4      4  /Users/outianyi/Computer_Vision/lfw-deepfunnel...   \n5            5      5  /Users/outianyi/Computer_Vision/lfw-deepfunnel...   \n6            6      6  /Users/outianyi/Computer_Vision/lfw-deepfunnel...   \n7            7      7  /Users/outianyi/Computer_Vision/lfw-deepfunnel...   \n8            8      8  /Users/outianyi/Computer_Vision/lfw-deepfunnel...   \n9            9      9  /Users/outianyi/Computer_Vision/lfw-deepfunnel...   \n10          10     10  /Users/outianyi/Computer_Vision/lfw-deepfunnel...   \n11          11     11  /Users/outianyi/Computer_Vision/lfw-deepfunnel...   \n12          12     12  /Users/outianyi/Computer_Vision/lfw-deepfunnel...   \n13          13     13  /Users/outianyi/Computer_Vision/lfw-deepfunnel...   \n14          14     14  /Users/outianyi/Computer_Vision/lfw-deepfunnel...   \n15          15     15  /Users/outianyi/Computer_Vision/lfw-deepfunnel...   \n16          16     16  /Users/outianyi/Computer_Vision/lfw-deepfunnel...   \n17          17     17  /Users/outianyi/Computer_Vision/lfw-deepfunnel...   \n18          18     18  /Users/outianyi/Computer_Vision/lfw-deepfunnel...   \n19          19     19  /Users/outianyi/Computer_Vision/lfw-deepfunnel...   \n\n                     name  average moments   \n0            Paul_McNulty         0.112463  \\\n1       Claudia_Pechstein         0.420185   \n2    Ranil_Wickremasinghe         0.296865   \n3         Mary-Kate_Olsen         0.238884   \n4          Phil_Mickelson         0.172778   \n5             Salma_Hayek         0.417727   \n6             Jim_Edmonds         0.173937   \n7         Martina_McBride         0.349136   \n8           Jose_Theodore         0.142142   \n9            Heidi_Fleiss         0.325152   \n10             Mark_Richt         0.255272   \n11            Paul_ONeill         0.348288   \n12             JK_Rowling         0.357632   \n13            Tony_Curtis         0.177030   \n14  Gro_Harlem_Brundtland         0.166898   \n15      Mikhail_Gorbachev         0.148253   \n16        Angela_Lansbury         0.144840   \n17          Cathy_Freeman         0.164293   \n18           Tyron_Garner         0.161838   \n19     Christine_Ebersole         0.160955   \n\n                                          descriptors  \n0   [dlib.vector([-0.070608, 0.0553258, -0.0192305...  \n1   [dlib.vector([-0.125048, 0.0517718, 0.033699, ...  \n2   [dlib.vector([-0.171162, 0.111649, 0.0194749, ...  \n3   [dlib.vector([-0.103438, 0.103933, 0.117124, -...  \n4   [dlib.vector([-0.0900885, 0.0579769, 0.0159981...  \n5   [dlib.vector([-0.154598, 0.0931335, 0.160469, ...  \n6   [dlib.vector([-0.0934584, 0.0560228, 0.135017,...  \n7   [dlib.vector([-0.146055, 0.0379049, 0.1829, -0...  \n8   [dlib.vector([-0.119901, 0.144393, 0.0704998, ...  \n9   [dlib.vector([-0.0491964, 0.110625, 0.106883, ...  \n10  [dlib.vector([-0.030817, 0.0925321, 0.0261527,...  \n11  [dlib.vector([-0.0644681, 0.104877, -0.0522748...  \n12  [dlib.vector([-0.155893, 0.110782, 0.174472, -...  \n13  [dlib.vector([-0.0153103, 0.0459004, -0.007252...  \n14  [dlib.vector([-0.157594, 0.0656254, 0.109929, ...  \n15  [dlib.vector([-0.10465, 0.0537356, 0.0559389, ...  \n16  [dlib.vector([-0.106549, -0.0316747, 0.0832262...  \n17  [dlib.vector([-0.138105, 0.0358961, 0.0499591,...  \n18  [dlib.vector([-0.120317, 0.0915672, 0.102909, ...  \n19  [dlib.vector([-0.195219, 0.108808, 0.0932788, ...  ",
      "text/html": "<div>\n<style scoped>\n    .dataframe tbody tr th:only-of-type {\n        vertical-align: middle;\n    }\n\n    .dataframe tbody tr th {\n        vertical-align: top;\n    }\n\n    .dataframe thead th {\n        text-align: right;\n    }\n</style>\n<table border=\"1\" class=\"dataframe\">\n  <thead>\n    <tr style=\"text-align: right;\">\n      <th></th>\n      <th>Unnamed: 0</th>\n      <th>index</th>\n      <th>path</th>\n      <th>name</th>\n      <th>average moments</th>\n      <th>descriptors</th>\n    </tr>\n  </thead>\n  <tbody>\n    <tr>\n      <th>0</th>\n      <td>0</td>\n      <td>0</td>\n      <td>/Users/outianyi/Computer_Vision/lfw-deepfunnel...</td>\n      <td>Paul_McNulty</td>\n      <td>0.112463</td>\n      <td>[dlib.vector([-0.070608, 0.0553258, -0.0192305...</td>\n    </tr>\n    <tr>\n      <th>1</th>\n      <td>1</td>\n      <td>1</td>\n      <td>/Users/outianyi/Computer_Vision/lfw-deepfunnel...</td>\n      <td>Claudia_Pechstein</td>\n      <td>0.420185</td>\n      <td>[dlib.vector([-0.125048, 0.0517718, 0.033699, ...</td>\n    </tr>\n    <tr>\n      <th>2</th>\n      <td>2</td>\n      <td>2</td>\n      <td>/Users/outianyi/Computer_Vision/lfw-deepfunnel...</td>\n      <td>Ranil_Wickremasinghe</td>\n      <td>0.296865</td>\n      <td>[dlib.vector([-0.171162, 0.111649, 0.0194749, ...</td>\n    </tr>\n    <tr>\n      <th>3</th>\n      <td>3</td>\n      <td>3</td>\n      <td>/Users/outianyi/Computer_Vision/lfw-deepfunnel...</td>\n      <td>Mary-Kate_Olsen</td>\n      <td>0.238884</td>\n      <td>[dlib.vector([-0.103438, 0.103933, 0.117124, -...</td>\n    </tr>\n    <tr>\n      <th>4</th>\n      <td>4</td>\n      <td>4</td>\n      <td>/Users/outianyi/Computer_Vision/lfw-deepfunnel...</td>\n      <td>Phil_Mickelson</td>\n      <td>0.172778</td>\n      <td>[dlib.vector([-0.0900885, 0.0579769, 0.0159981...</td>\n    </tr>\n    <tr>\n      <th>5</th>\n      <td>5</td>\n      <td>5</td>\n      <td>/Users/outianyi/Computer_Vision/lfw-deepfunnel...</td>\n      <td>Salma_Hayek</td>\n      <td>0.417727</td>\n      <td>[dlib.vector([-0.154598, 0.0931335, 0.160469, ...</td>\n    </tr>\n    <tr>\n      <th>6</th>\n      <td>6</td>\n      <td>6</td>\n      <td>/Users/outianyi/Computer_Vision/lfw-deepfunnel...</td>\n      <td>Jim_Edmonds</td>\n      <td>0.173937</td>\n      <td>[dlib.vector([-0.0934584, 0.0560228, 0.135017,...</td>\n    </tr>\n    <tr>\n      <th>7</th>\n      <td>7</td>\n      <td>7</td>\n      <td>/Users/outianyi/Computer_Vision/lfw-deepfunnel...</td>\n      <td>Martina_McBride</td>\n      <td>0.349136</td>\n      <td>[dlib.vector([-0.146055, 0.0379049, 0.1829, -0...</td>\n    </tr>\n    <tr>\n      <th>8</th>\n      <td>8</td>\n      <td>8</td>\n      <td>/Users/outianyi/Computer_Vision/lfw-deepfunnel...</td>\n      <td>Jose_Theodore</td>\n      <td>0.142142</td>\n      <td>[dlib.vector([-0.119901, 0.144393, 0.0704998, ...</td>\n    </tr>\n    <tr>\n      <th>9</th>\n      <td>9</td>\n      <td>9</td>\n      <td>/Users/outianyi/Computer_Vision/lfw-deepfunnel...</td>\n      <td>Heidi_Fleiss</td>\n      <td>0.325152</td>\n      <td>[dlib.vector([-0.0491964, 0.110625, 0.106883, ...</td>\n    </tr>\n    <tr>\n      <th>10</th>\n      <td>10</td>\n      <td>10</td>\n      <td>/Users/outianyi/Computer_Vision/lfw-deepfunnel...</td>\n      <td>Mark_Richt</td>\n      <td>0.255272</td>\n      <td>[dlib.vector([-0.030817, 0.0925321, 0.0261527,...</td>\n    </tr>\n    <tr>\n      <th>11</th>\n      <td>11</td>\n      <td>11</td>\n      <td>/Users/outianyi/Computer_Vision/lfw-deepfunnel...</td>\n      <td>Paul_ONeill</td>\n      <td>0.348288</td>\n      <td>[dlib.vector([-0.0644681, 0.104877, -0.0522748...</td>\n    </tr>\n    <tr>\n      <th>12</th>\n      <td>12</td>\n      <td>12</td>\n      <td>/Users/outianyi/Computer_Vision/lfw-deepfunnel...</td>\n      <td>JK_Rowling</td>\n      <td>0.357632</td>\n      <td>[dlib.vector([-0.155893, 0.110782, 0.174472, -...</td>\n    </tr>\n    <tr>\n      <th>13</th>\n      <td>13</td>\n      <td>13</td>\n      <td>/Users/outianyi/Computer_Vision/lfw-deepfunnel...</td>\n      <td>Tony_Curtis</td>\n      <td>0.177030</td>\n      <td>[dlib.vector([-0.0153103, 0.0459004, -0.007252...</td>\n    </tr>\n    <tr>\n      <th>14</th>\n      <td>14</td>\n      <td>14</td>\n      <td>/Users/outianyi/Computer_Vision/lfw-deepfunnel...</td>\n      <td>Gro_Harlem_Brundtland</td>\n      <td>0.166898</td>\n      <td>[dlib.vector([-0.157594, 0.0656254, 0.109929, ...</td>\n    </tr>\n    <tr>\n      <th>15</th>\n      <td>15</td>\n      <td>15</td>\n      <td>/Users/outianyi/Computer_Vision/lfw-deepfunnel...</td>\n      <td>Mikhail_Gorbachev</td>\n      <td>0.148253</td>\n      <td>[dlib.vector([-0.10465, 0.0537356, 0.0559389, ...</td>\n    </tr>\n    <tr>\n      <th>16</th>\n      <td>16</td>\n      <td>16</td>\n      <td>/Users/outianyi/Computer_Vision/lfw-deepfunnel...</td>\n      <td>Angela_Lansbury</td>\n      <td>0.144840</td>\n      <td>[dlib.vector([-0.106549, -0.0316747, 0.0832262...</td>\n    </tr>\n    <tr>\n      <th>17</th>\n      <td>17</td>\n      <td>17</td>\n      <td>/Users/outianyi/Computer_Vision/lfw-deepfunnel...</td>\n      <td>Cathy_Freeman</td>\n      <td>0.164293</td>\n      <td>[dlib.vector([-0.138105, 0.0358961, 0.0499591,...</td>\n    </tr>\n    <tr>\n      <th>18</th>\n      <td>18</td>\n      <td>18</td>\n      <td>/Users/outianyi/Computer_Vision/lfw-deepfunnel...</td>\n      <td>Tyron_Garner</td>\n      <td>0.161838</td>\n      <td>[dlib.vector([-0.120317, 0.0915672, 0.102909, ...</td>\n    </tr>\n    <tr>\n      <th>19</th>\n      <td>19</td>\n      <td>19</td>\n      <td>/Users/outianyi/Computer_Vision/lfw-deepfunnel...</td>\n      <td>Christine_Ebersole</td>\n      <td>0.160955</td>\n      <td>[dlib.vector([-0.195219, 0.108808, 0.0932788, ...</td>\n    </tr>\n  </tbody>\n</table>\n</div>"
     },
     "execution_count": 128,
     "metadata": {},
     "output_type": "execute_result"
    }
   ],
   "source": [
    "readed_csv.head(20)"
   ],
   "metadata": {
    "collapsed": false,
    "ExecuteTime": {
     "end_time": "2023-05-23T06:28:46.896420Z",
     "start_time": "2023-05-23T06:28:46.885127Z"
    }
   }
  },
  {
   "cell_type": "code",
   "execution_count": 130,
   "outputs": [
    {
     "data": {
      "text/plain": "<Figure size 640x480 with 1 Axes>",
      "image/png": "[encoded data removed]"
     },
     "metadata": {},
     "output_type": "display_data"
    }
   ],
   "source": [
    "plt.plot(readed_csv['average moments'])\n",
    "plt.ylim(0, 0.6)\n",
    "plt.show()"
   ],
   "metadata": {
    "collapsed": false,
    "ExecuteTime": {
     "end_time": "2023-05-23T06:31:01.218126Z",
     "start_time": "2023-05-23T06:31:01.154691Z"
    }
   }
  },
  {
   "cell_type": "code",
   "execution_count": 133,
   "outputs": [
    {
     "data": {
      "text/plain": "0.22634141520975465"
     },
     "execution_count": 133,
     "metadata": {},
     "output_type": "execute_result"
    }
   ],
   "source": [
    "all_average_moments = readed_csv['average moments']\n",
    "all_average_moments.mean()"
   ],
   "metadata": {
    "collapsed": false,
    "ExecuteTime": {
     "end_time": "2023-05-23T06:32:28.739608Z",
     "start_time": "2023-05-23T06:32:28.736951Z"
    }
   }
  },
  {
   "cell_type": "code",
   "execution_count": 134,
   "outputs": [
    {
     "data": {
      "text/plain": "count    1680.000000\nmean        0.226341\nstd         0.096147\nmin         0.000000\n25%         0.148071\n50%         0.202958\n75%         0.296253\nmax         0.524050\nName: average moments, dtype: float64"
     },
     "execution_count": 134,
     "metadata": {},
     "output_type": "execute_result"
    }
   ],
   "source": [
    "all_average_moments.describe()"
   ],
   "metadata": {
    "collapsed": false,
    "ExecuteTime": {
     "end_time": "2023-05-23T06:32:33.387128Z",
     "start_time": "2023-05-23T06:32:33.376705Z"
    }
   }
  },
  {
   "cell_type": "code",
   "execution_count": null,
   "outputs": [],
   "source": [],
   "metadata": {
    "collapsed": false
   }
  }
 ],
 "metadata": {
  "kernelspec": {
   "display_name": "Python 3",
   "language": "python",
   "name": "python3"
  },
  "language_info": {
   "codemirror_mode": {
    "name": "ipython",
    "version": 2
   },
   "file_extension": ".py",
   "mimetype": "text/x-python",
   "name": "python",
   "nbconvert_exporter": "python",
   "pygments_lexer": "ipython2",
   "version": "2.7.6"
  }
 },
 "nbformat": 4,
 "nbformat_minor": 0
}
